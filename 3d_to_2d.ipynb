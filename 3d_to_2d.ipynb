{
 "cells": [
  {
   "cell_type": "markdown",
   "metadata": {},
   "source": [
    "3D - .obj  \n",
    "2D - .png"
   ]
  },
  {
   "cell_type": "markdown",
   "metadata": {},
   "source": [
    "### параметры вызова команды  \n",
    "* !python .\\src\\obj2png.py ** вызов программного файла из папки следующего уровня  \n",
    "* -i .\\obj\\screw.obj ** вызов 3д файла из папки следующего уровня  \n",
    "* -o .\\png\\screw\\00000.png ** задаём имя выходного файла  \n",
    "* -a 45 ** угол обзора в градусах  от -180 до 180\n",
    "* -e 45 ** угол обзора по высоте  от -180 до 180\n",
    "* -q HIGH ** качество прорисовки картинки (HIGH,MEDIUM,LOW)  \n",
    "* --resolution 300x300 ** разрешение картинки  \n",
    "* ** -s 2 ** масштабирование картинки для уменьшения границ  \n"
   ]
  },
  {
   "cell_type": "markdown",
   "metadata": {},
   "source": [
    "### делаем миллион картинок одной 3д модельки  \n",
    "* меняем переменную a_angle от -180 до 180 с шагом 5 \n",
    "* меняем переменную v_angle от -180 до 180 с шагом 5 \n",
    "* формируем название файла '\".\\png\\screw\\\" + str(a_angle) + str(v_angle) + \".png\"'"
   ]
  },
  {
   "cell_type": "code",
   "execution_count": null,
   "metadata": {},
   "outputs": [],
   "source": [
    "for a_angle in range(-180, 185, 5): \n",
    "    for v_angle in range(-180, 185, 5): \n",
    "        output = \".\\\\png\\\\screw\\\\\" + str(a_angle) + \"r\" + str(v_angle) + \".png\"\n",
    "        !python .\\src\\obj2png.py -i .\\obj\\screw.obj -o  {output} -a {a_angle} -e {v_angle} -q HIGH --resolution 300x300 -s 1\n"
   ]
  },
  {
   "cell_type": "code",
   "execution_count": null,
   "metadata": {},
   "outputs": [],
   "source": []
  }
 ],
 "metadata": {
  "language_info": {
   "name": "python"
  },
  "orig_nbformat": 4
 },
 "nbformat": 4,
 "nbformat_minor": 2
}
